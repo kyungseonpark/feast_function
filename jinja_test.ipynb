{
 "cells": [
  {
   "cell_type": "code",
   "execution_count": 6,
   "metadata": {
    "collapsed": true,
    "ExecuteTime": {
     "end_time": "2023-06-02T05:29:31.405427Z",
     "start_time": "2023-06-02T05:29:31.397329Z"
    }
   },
   "outputs": [],
   "source": [
    "from jinja2 import Template"
   ]
  },
  {
   "cell_type": "code",
   "execution_count": 34,
   "outputs": [],
   "source": [
    "def _mapping_feast_type(is_entity=True):\n",
    "    if is_entity:\n",
    "        return \"int\"\n",
    "    else:\n",
    "        return \"float\"\n",
    "\n",
    "def define_entity(val_name, entity_name, entity_dtype):\n",
    "    DEFINE_ENTITY_TEMPLATE = '''\n",
    "    {% macro define_entity(val_name, entity_name, entity_type) %}\n",
    "        en_{{ val_name }} = Entity(\n",
    "            name=\"{{ entity_name }}\",\n",
    "            value_type={{ entity_type }}\n",
    "        )\n",
    "    {% endmacro %}\n",
    "    '''\n",
    "    template = Template(DEFINE_ENTITY_TEMPLATE)\n",
    "\n",
    "    # 함수를 템플릿에 적용하여 최종 결과 생성\n",
    "    rendered_template = template.render(\n",
    "        define_entity=define_entity,\n",
    "        val_name=val_name,\n",
    "        entity_name=entity_name,\n",
    "        entity_type=_mapping_feast_type(entity_dtype)\n",
    "    )\n",
    "    return rendered_template"
   ],
   "metadata": {
    "collapsed": false,
    "ExecuteTime": {
     "end_time": "2023-06-02T05:37:52.533630Z",
     "start_time": "2023-06-02T05:37:52.526545Z"
    }
   }
  },
  {
   "cell_type": "code",
   "execution_count": 38,
   "outputs": [],
   "source": [
    "print(define_entity('val1', 'my_en', True))"
   ],
   "metadata": {
    "collapsed": false,
    "ExecuteTime": {
     "end_time": "2023-06-02T05:45:53.386817Z",
     "start_time": "2023-06-02T05:45:53.384365Z"
    }
   }
  },
  {
   "cell_type": "code",
   "execution_count": 39,
   "outputs": [],
   "source": [
    "from jinja2 import Template\n",
    "\n",
    "def _mapping_feast_type(is_entity=True):\n",
    "    if is_entity:\n",
    "        return \"'int'\"\n",
    "    else:\n",
    "        return \"'float'\"\n",
    "\n",
    "def define_entity(val_name, entity_name, entity_dtype):\n",
    "    DEFINE_ENTITY_TEMPLATE = '''\n",
    "    {% macro define_entity(val_name, entity_name, entity_type) %}\n",
    "        en_{{ val_name }} = Entity(\n",
    "            name=\"{{ entity_name }}\",\n",
    "            value_type={{ entity_type }}\n",
    "        )\n",
    "    {% endmacro %}\n",
    "    '''\n",
    "    template = Template(DEFINE_ENTITY_TEMPLATE)\n",
    "\n",
    "    # 함수를 템플릿에 적용하여 최종 결과 생성\n",
    "    rendered_template = template.render(\n",
    "        val_name=val_name,\n",
    "        entity_name=entity_name,\n",
    "        entity_type=_mapping_feast_type(entity_dtype)\n",
    "    )\n",
    "    return rendered_template\n",
    "\n",
    "print(define_entity('val1', 'my_en', True))"
   ],
   "metadata": {
    "collapsed": false,
    "ExecuteTime": {
     "end_time": "2023-06-02T05:48:12.386081Z",
     "start_time": "2023-06-02T05:48:12.383418Z"
    }
   }
  },
  {
   "cell_type": "code",
   "execution_count": 40,
   "outputs": [
    {
     "data": {
      "text/plain": "'en_val1 = Entity(\\n    name=\"entity1\",\\n    value_type=ValueType.STRING\\n)\\n\\n'"
     },
     "execution_count": 40,
     "metadata": {},
     "output_type": "execute_result"
    }
   ],
   "source": [
    "from jinja2 import Template\n",
    "\n",
    "DEFINE_ENTITY_TEMPLATE = '''\n",
    "{%- macro define_entity(val_name, entity_name, entity_type) %}\n",
    "en_{{ val_name }} = Entity(\n",
    "    name=\"{{ entity_name }}\",\n",
    "    value_type={{ entity_type }}\n",
    ")\\n\n",
    "{%- endmacro %}\n",
    "{{ define_entity(val_name, entity_name, entity_type) }}\n",
    "'''\n",
    "\n",
    "def _mapping_feast_type(is_entity=True):\n",
    "    if is_entity:\n",
    "        return \"'int'\"\n",
    "    else:\n",
    "        return \"'float'\"\n",
    "\n",
    "def define_entity(val_name, entity_name, entity_dtype):\n",
    "    template = Template(DEFINE_ENTITY_TEMPLATE)\n",
    "\n",
    "    # Function call to the macro is added to the template\n",
    "    rendered_template = template.render(\n",
    "        define_entity=define_entity,\n",
    "        val_name=val_name,\n",
    "        entity_name=entity_name,\n",
    "        entity_type=_mapping_feast_type(entity_dtype)\n",
    "    ).lstrip()\n",
    "    return rendered_template\n",
    "\n",
    "print(define_entity('val1', 'my_en', True))\n"
   ],
   "metadata": {
    "collapsed": false,
    "ExecuteTime": {
     "end_time": "2023-06-02T05:48:13.630578Z",
     "start_time": "2023-06-02T05:48:13.623355Z"
    }
   }
  },
  {
   "cell_type": "code",
   "execution_count": 2,
   "outputs": [
    {
     "name": "stdout",
     "output_type": "stream",
     "text": [
      "Output saved to ./output.txt\n"
     ]
    }
   ],
   "source": [
    "# Define the file path to save the output\n",
    "output_file_path = \"./output.txt\"\n",
    "\n",
    "# Call the define_entity function and save the output to the file\n",
    "output = define_entity('val1', 'my_en', True)\n",
    "with open(output_file_path, 'w') as f:\n",
    "    f.write(output)\n",
    "\n",
    "print(\"Output saved to\", output_file_path)"
   ],
   "metadata": {
    "collapsed": false,
    "ExecuteTime": {
     "end_time": "2023-06-02T05:23:53.691510Z",
     "start_time": "2023-06-02T05:23:53.687666Z"
    }
   }
  },
  {
   "cell_type": "code",
   "execution_count": 3,
   "outputs": [
    {
     "data": {
      "text/plain": "'en_val1 = Entity(\\n    name=\"my_en\",\\n    value_type=\\'int\\'\\n)\\n'"
     },
     "execution_count": 3,
     "metadata": {},
     "output_type": "execute_result"
    }
   ],
   "source": [
    "define_entity('val1', 'my_en', True)"
   ],
   "metadata": {
    "collapsed": false,
    "ExecuteTime": {
     "end_time": "2023-06-02T05:23:53.729645Z",
     "start_time": "2023-06-02T05:23:53.691889Z"
    }
   }
  },
  {
   "cell_type": "code",
   "execution_count": 1,
   "outputs": [],
   "source": [
    "from feast_api.feast_define import define_entity, define_push_source,define_feature_view,define_kafka_source"
   ],
   "metadata": {
    "collapsed": false,
    "ExecuteTime": {
     "end_time": "2023-06-02T07:45:53.264610Z",
     "start_time": "2023-06-02T07:45:52.835674Z"
    }
   }
  },
  {
   "cell_type": "code",
   "execution_count": 8,
   "outputs": [
    {
     "ename": "TemplateNotFound",
     "evalue": "define_entity.j2",
     "output_type": "error",
     "traceback": [
      "\u001B[0;31m---------------------------------------------------------------------------\u001B[0m",
      "\u001B[0;31mTemplateNotFound\u001B[0m                          Traceback (most recent call last)",
      "Cell \u001B[0;32mIn[8], line 1\u001B[0m\n\u001B[0;32m----> 1\u001B[0m \u001B[43mdefine_entity\u001B[49m\u001B[43m(\u001B[49m\u001B[38;5;124;43m'\u001B[39;49m\u001B[38;5;124;43mval1\u001B[39;49m\u001B[38;5;124;43m'\u001B[39;49m\u001B[43m,\u001B[49m\u001B[43m \u001B[49m\u001B[38;5;124;43m'\u001B[39;49m\u001B[38;5;124;43mmy_en\u001B[39;49m\u001B[38;5;124;43m'\u001B[39;49m\u001B[43m,\u001B[49m\u001B[43m \u001B[49m\u001B[38;5;124;43m'\u001B[39;49m\u001B[38;5;124;43mSTRING\u001B[39;49m\u001B[38;5;124;43m'\u001B[39;49m\u001B[43m)\u001B[49m\n",
      "File \u001B[0;32m~/PycharmProjects/abacus_feast_function/feast_api/feast_define.py:69\u001B[0m, in \u001B[0;36mdefine_entity\u001B[0;34m(val_name, entity_name, entity_dtype)\u001B[0m\n\u001B[1;32m     68\u001B[0m \u001B[38;5;28;01mdef\u001B[39;00m \u001B[38;5;21mdefine_entity\u001B[39m(val_name: \u001B[38;5;28mstr\u001B[39m, entity_name: \u001B[38;5;28mstr\u001B[39m, entity_dtype: \u001B[38;5;28mstr\u001B[39m):\n\u001B[0;32m---> 69\u001B[0m     \u001B[38;5;28;01mreturn\u001B[39;00m \u001B[43m__render_j2_template\u001B[49m\u001B[43m(\u001B[49m\n\u001B[1;32m     70\u001B[0m \u001B[43m        \u001B[49m\u001B[43mtemplate_name\u001B[49m\u001B[38;5;241;43m=\u001B[39;49m\u001B[38;5;124;43m'\u001B[39;49m\u001B[38;5;124;43mdefine_entity.j2\u001B[39;49m\u001B[38;5;124;43m'\u001B[39;49m\u001B[43m,\u001B[49m\n\u001B[1;32m     71\u001B[0m \u001B[43m        \u001B[49m\u001B[43mval_name\u001B[49m\u001B[38;5;241;43m=\u001B[39;49m\u001B[43mval_name\u001B[49m\u001B[43m,\u001B[49m\n\u001B[1;32m     72\u001B[0m \u001B[43m        \u001B[49m\u001B[43mentity_name\u001B[49m\u001B[38;5;241;43m=\u001B[39;49m\u001B[43mentity_name\u001B[49m\u001B[43m,\u001B[49m\n\u001B[1;32m     73\u001B[0m \u001B[43m        \u001B[49m\u001B[43mentity_type\u001B[49m\u001B[38;5;241;43m=\u001B[39;49m\u001B[43m__mapping_feast_type\u001B[49m\u001B[43m(\u001B[49m\u001B[43mentity_dtype\u001B[49m\u001B[43m,\u001B[49m\u001B[43m \u001B[49m\u001B[43mis_entity\u001B[49m\u001B[38;5;241;43m=\u001B[39;49m\u001B[38;5;28;43;01mTrue\u001B[39;49;00m\u001B[43m)\u001B[49m\n\u001B[1;32m     74\u001B[0m \u001B[43m    \u001B[49m\u001B[43m)\u001B[49m\n",
      "File \u001B[0;32m~/PycharmProjects/abacus_feast_function/feast_api/feast_define.py:49\u001B[0m, in \u001B[0;36m__render_j2_template\u001B[0;34m(template_name, **kwargs)\u001B[0m\n\u001B[1;32m     46\u001B[0m env \u001B[38;5;241m=\u001B[39m Environment(loader\u001B[38;5;241m=\u001B[39mFileSystemLoader(template_dir))\n\u001B[1;32m     48\u001B[0m \u001B[38;5;66;03m# 템플릿 파일을 로드합니다.\u001B[39;00m\n\u001B[0;32m---> 49\u001B[0m template \u001B[38;5;241m=\u001B[39m \u001B[43menv\u001B[49m\u001B[38;5;241;43m.\u001B[39;49m\u001B[43mget_template\u001B[49m\u001B[43m(\u001B[49m\u001B[43mtemplate_name\u001B[49m\u001B[43m)\u001B[49m\n\u001B[1;32m     51\u001B[0m \u001B[38;5;66;03m# 템플릿을 렌더링합니다.\u001B[39;00m\n\u001B[1;32m     52\u001B[0m rendered_template \u001B[38;5;241m=\u001B[39m template\u001B[38;5;241m.\u001B[39mrender(\u001B[38;5;241m*\u001B[39m\u001B[38;5;241m*\u001B[39mkwargs)\u001B[38;5;241m.\u001B[39mlstrip()\n",
      "File \u001B[0;32m~/opt/anaconda3/envs/py11_feast/lib/python3.11/site-packages/jinja2/environment.py:1010\u001B[0m, in \u001B[0;36mEnvironment.get_template\u001B[0;34m(self, name, parent, globals)\u001B[0m\n\u001B[1;32m   1007\u001B[0m \u001B[38;5;28;01mif\u001B[39;00m parent \u001B[38;5;129;01mis\u001B[39;00m \u001B[38;5;129;01mnot\u001B[39;00m \u001B[38;5;28;01mNone\u001B[39;00m:\n\u001B[1;32m   1008\u001B[0m     name \u001B[38;5;241m=\u001B[39m \u001B[38;5;28mself\u001B[39m\u001B[38;5;241m.\u001B[39mjoin_path(name, parent)\n\u001B[0;32m-> 1010\u001B[0m \u001B[38;5;28;01mreturn\u001B[39;00m \u001B[38;5;28;43mself\u001B[39;49m\u001B[38;5;241;43m.\u001B[39;49m\u001B[43m_load_template\u001B[49m\u001B[43m(\u001B[49m\u001B[43mname\u001B[49m\u001B[43m,\u001B[49m\u001B[43m \u001B[49m\u001B[38;5;28;43mglobals\u001B[39;49m\u001B[43m)\u001B[49m\n",
      "File \u001B[0;32m~/opt/anaconda3/envs/py11_feast/lib/python3.11/site-packages/jinja2/environment.py:969\u001B[0m, in \u001B[0;36mEnvironment._load_template\u001B[0;34m(self, name, globals)\u001B[0m\n\u001B[1;32m    965\u001B[0m             template\u001B[38;5;241m.\u001B[39mglobals\u001B[38;5;241m.\u001B[39mupdate(\u001B[38;5;28mglobals\u001B[39m)\n\u001B[1;32m    967\u001B[0m         \u001B[38;5;28;01mreturn\u001B[39;00m template\n\u001B[0;32m--> 969\u001B[0m template \u001B[38;5;241m=\u001B[39m \u001B[38;5;28;43mself\u001B[39;49m\u001B[38;5;241;43m.\u001B[39;49m\u001B[43mloader\u001B[49m\u001B[38;5;241;43m.\u001B[39;49m\u001B[43mload\u001B[49m\u001B[43m(\u001B[49m\u001B[38;5;28;43mself\u001B[39;49m\u001B[43m,\u001B[49m\u001B[43m \u001B[49m\u001B[43mname\u001B[49m\u001B[43m,\u001B[49m\u001B[43m \u001B[49m\u001B[38;5;28;43mself\u001B[39;49m\u001B[38;5;241;43m.\u001B[39;49m\u001B[43mmake_globals\u001B[49m\u001B[43m(\u001B[49m\u001B[38;5;28;43mglobals\u001B[39;49m\u001B[43m)\u001B[49m\u001B[43m)\u001B[49m\n\u001B[1;32m    971\u001B[0m \u001B[38;5;28;01mif\u001B[39;00m \u001B[38;5;28mself\u001B[39m\u001B[38;5;241m.\u001B[39mcache \u001B[38;5;129;01mis\u001B[39;00m \u001B[38;5;129;01mnot\u001B[39;00m \u001B[38;5;28;01mNone\u001B[39;00m:\n\u001B[1;32m    972\u001B[0m     \u001B[38;5;28mself\u001B[39m\u001B[38;5;241m.\u001B[39mcache[cache_key] \u001B[38;5;241m=\u001B[39m template\n",
      "File \u001B[0;32m~/opt/anaconda3/envs/py11_feast/lib/python3.11/site-packages/jinja2/loaders.py:126\u001B[0m, in \u001B[0;36mBaseLoader.load\u001B[0;34m(self, environment, name, globals)\u001B[0m\n\u001B[1;32m    122\u001B[0m     \u001B[38;5;28mglobals\u001B[39m \u001B[38;5;241m=\u001B[39m {}\n\u001B[1;32m    124\u001B[0m \u001B[38;5;66;03m# first we try to get the source for this template together\u001B[39;00m\n\u001B[1;32m    125\u001B[0m \u001B[38;5;66;03m# with the filename and the uptodate function.\u001B[39;00m\n\u001B[0;32m--> 126\u001B[0m source, filename, uptodate \u001B[38;5;241m=\u001B[39m \u001B[38;5;28;43mself\u001B[39;49m\u001B[38;5;241;43m.\u001B[39;49m\u001B[43mget_source\u001B[49m\u001B[43m(\u001B[49m\u001B[43menvironment\u001B[49m\u001B[43m,\u001B[49m\u001B[43m \u001B[49m\u001B[43mname\u001B[49m\u001B[43m)\u001B[49m\n\u001B[1;32m    128\u001B[0m \u001B[38;5;66;03m# try to load the code from the bytecode cache if there is a\u001B[39;00m\n\u001B[1;32m    129\u001B[0m \u001B[38;5;66;03m# bytecode cache configured.\u001B[39;00m\n\u001B[1;32m    130\u001B[0m bcc \u001B[38;5;241m=\u001B[39m environment\u001B[38;5;241m.\u001B[39mbytecode_cache\n",
      "File \u001B[0;32m~/opt/anaconda3/envs/py11_feast/lib/python3.11/site-packages/jinja2/loaders.py:218\u001B[0m, in \u001B[0;36mFileSystemLoader.get_source\u001B[0;34m(self, environment, template)\u001B[0m\n\u001B[1;32m    216\u001B[0m     \u001B[38;5;66;03m# Use normpath to convert Windows altsep to sep.\u001B[39;00m\n\u001B[1;32m    217\u001B[0m     \u001B[38;5;28;01mreturn\u001B[39;00m contents, os\u001B[38;5;241m.\u001B[39mpath\u001B[38;5;241m.\u001B[39mnormpath(filename), uptodate\n\u001B[0;32m--> 218\u001B[0m \u001B[38;5;28;01mraise\u001B[39;00m TemplateNotFound(template)\n",
      "\u001B[0;31mTemplateNotFound\u001B[0m: define_entity.j2"
     ]
    }
   ],
   "source": [
    "define_entity('val1', 'my_en', 'STRING')"
   ],
   "metadata": {
    "collapsed": false,
    "ExecuteTime": {
     "end_time": "2023-06-02T07:47:30.812518Z",
     "start_time": "2023-06-02T07:47:30.757189Z"
    }
   }
  },
  {
   "cell_type": "code",
   "execution_count": 3,
   "outputs": [
    {
     "name": "stdout",
     "output_type": "stream",
     "text": [
      "# feast push source for streaming data.\n",
      "ps_val1 = PushSource(\n",
      "    name=\"ps_val1\",\n",
      "    batch_source=fs_val1,\n",
      ")\n",
      "\n",
      "\n"
     ]
    }
   ],
   "source": [
    "print(define_push_source('val1'))"
   ],
   "metadata": {
    "collapsed": false,
    "ExecuteTime": {
     "end_time": "2023-06-02T06:48:48.665536Z",
     "start_time": "2023-06-02T06:48:48.653030Z"
    }
   }
  },
  {
   "cell_type": "code",
   "execution_count": 7,
   "outputs": [],
   "source": [
    "res = define_feature_view(\n",
    "    val_name='val1',\n",
    "    dataset_features={\n",
    "        'test1': 'STRING',\n",
    "        'test2': 'STRING'\n",
    "    }\n",
    ")"
   ],
   "metadata": {
    "collapsed": false,
    "ExecuteTime": {
     "end_time": "2023-06-02T06:49:51.490829Z",
     "start_time": "2023-06-02T06:49:51.483875Z"
    }
   }
  },
  {
   "cell_type": "code",
   "execution_count": 8,
   "outputs": [
    {
     "name": "stdout",
     "output_type": "stream",
     "text": [
      "fv_val1 = FeatureView(\n",
      "    name=\"fv_val1\",\n",
      "    source=fs_val1,\n",
      "    entities=[en_val1],\n",
      "    schema=[\n",
      "        Field(name=\"test1\", dtype=String),\n",
      "        Field(name=\"test2\", dtype=String)],\n",
      "    ttl=timedelta(seconds=86400 * 30),\n",
      ")\n",
      "\n",
      "\n"
     ]
    }
   ],
   "source": [
    "print(res)"
   ],
   "metadata": {
    "collapsed": false,
    "ExecuteTime": {
     "end_time": "2023-06-02T06:49:54.272634Z",
     "start_time": "2023-06-02T06:49:54.256844Z"
    }
   }
  },
  {
   "cell_type": "code",
   "execution_count": 11,
   "outputs": [],
   "source": [
    "res = define_kafka_source(\n",
    "    val_name='val1',\n",
    "    timestamp_col='test1',\n",
    "    dataset_features={\n",
    "        'test1': 'STRING',\n",
    "        'test2': 'STRING'\n",
    "    }\n",
    ")"
   ],
   "metadata": {
    "collapsed": false,
    "ExecuteTime": {
     "end_time": "2023-06-02T07:02:00.804530Z",
     "start_time": "2023-06-02T07:02:00.798737Z"
    }
   }
  },
  {
   "cell_type": "code",
   "execution_count": 12,
   "outputs": [
    {
     "name": "stdout",
     "output_type": "stream",
     "text": [
      "kas_val1 = KafkaSource(\n",
      "    name=\"kas_val1\",\n",
      "    kafka_bootstrap_servers=\"kafka1:19091,kafka2:19092,kafka3:19093\",\n",
      "    topic=\"topic-val1\",\n",
      "    timestamp_field=\"test1\",\n",
      "    batch_source=fs_val1,\n",
      "    message_format=JsonFormat(\n",
      "        schema_json=\"test1 string, test2 string, test1 timestamp\",\n",
      "    ),\n",
      "    watermark_delay_threshold=timedelta(minutes=5),\n",
      ")\n",
      "\n",
      "\n"
     ]
    }
   ],
   "source": [
    "print(res)"
   ],
   "metadata": {
    "collapsed": false,
    "ExecuteTime": {
     "end_time": "2023-06-02T07:02:02.697823Z",
     "start_time": "2023-06-02T07:02:02.691608Z"
    }
   }
  },
  {
   "cell_type": "code",
   "execution_count": 3,
   "outputs": [],
   "source": [
    "from jinja2 import Environment, FileSystemLoader"
   ],
   "metadata": {
    "collapsed": false,
    "ExecuteTime": {
     "end_time": "2023-06-02T07:46:04.860601Z",
     "start_time": "2023-06-02T07:46:04.854659Z"
    }
   }
  },
  {
   "cell_type": "code",
   "execution_count": 4,
   "outputs": [],
   "source": [
    "template_dir = './feast_api/feast_template'"
   ],
   "metadata": {
    "collapsed": false,
    "ExecuteTime": {
     "end_time": "2023-06-02T07:46:05.041008Z",
     "start_time": "2023-06-02T07:46:05.035868Z"
    }
   }
  },
  {
   "cell_type": "code",
   "execution_count": 5,
   "outputs": [],
   "source": [
    "env = Environment(loader=FileSystemLoader(template_dir))"
   ],
   "metadata": {
    "collapsed": false,
    "ExecuteTime": {
     "end_time": "2023-06-02T07:46:05.180243Z",
     "start_time": "2023-06-02T07:46:05.175894Z"
    }
   }
  },
  {
   "cell_type": "code",
   "execution_count": 6,
   "outputs": [],
   "source": [
    "template = env.get_template('define_entity.j2')"
   ],
   "metadata": {
    "collapsed": false,
    "ExecuteTime": {
     "end_time": "2023-06-02T07:46:05.328292Z",
     "start_time": "2023-06-02T07:46:05.321850Z"
    }
   }
  },
  {
   "cell_type": "code",
   "execution_count": 7,
   "outputs": [
    {
     "data": {
      "text/plain": "'\\n\\nen_val1 = Entity(\\n    name=\"my_en\",\\n    value_type=STRING,\\n)\\n\\\\n'"
     },
     "execution_count": 7,
     "metadata": {},
     "output_type": "execute_result"
    }
   ],
   "source": [
    "template.render(\n",
    "    val_name='val1',\n",
    "    entity_name='my_en',\n",
    "    entity_type='STRING'\n",
    ")"
   ],
   "metadata": {
    "collapsed": false,
    "ExecuteTime": {
     "end_time": "2023-06-02T07:46:39.799418Z",
     "start_time": "2023-06-02T07:46:39.793699Z"
    }
   }
  },
  {
   "cell_type": "code",
   "execution_count": null,
   "outputs": [],
   "source": [],
   "metadata": {
    "collapsed": false
   }
  }
 ],
 "metadata": {
  "kernelspec": {
   "display_name": "Python 3",
   "language": "python",
   "name": "python3"
  },
  "language_info": {
   "codemirror_mode": {
    "name": "ipython",
    "version": 2
   },
   "file_extension": ".py",
   "mimetype": "text/x-python",
   "name": "python",
   "nbconvert_exporter": "python",
   "pygments_lexer": "ipython2",
   "version": "2.7.6"
  }
 },
 "nbformat": 4,
 "nbformat_minor": 0
}
