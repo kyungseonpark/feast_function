{
 "cells": [
  {
   "cell_type": "code",
   "execution_count": 1,
   "metadata": {
    "collapsed": true,
    "ExecuteTime": {
     "end_time": "2023-06-07T05:27:49.150431Z",
     "start_time": "2023-06-07T05:27:49.122334Z"
    }
   },
   "outputs": [],
   "source": [
    "from jinja2 import Template"
   ]
  },
  {
   "cell_type": "code",
   "execution_count": 85,
   "outputs": [],
   "source": [
    "PJ_NAME = 'project_{{ project_id }}'"
   ],
   "metadata": {
    "collapsed": false,
    "ExecuteTime": {
     "end_time": "2023-06-07T05:38:32.489517Z",
     "start_time": "2023-06-07T05:38:32.485485Z"
    }
   }
  },
  {
   "cell_type": "code",
   "execution_count": 86,
   "outputs": [],
   "source": [
    "WS_NAME = 'workspace_{{ workspace_id }}'"
   ],
   "metadata": {
    "collapsed": false,
    "ExecuteTime": {
     "end_time": "2023-06-07T05:38:32.715955Z",
     "start_time": "2023-06-07T05:38:32.707350Z"
    }
   }
  },
  {
   "cell_type": "code",
   "execution_count": 87,
   "outputs": [],
   "source": [
    "workspace_id = 3\n",
    "project_id = 2"
   ],
   "metadata": {
    "collapsed": false,
    "ExecuteTime": {
     "end_time": "2023-06-07T05:38:32.902375Z",
     "start_time": "2023-06-07T05:38:32.897890Z"
    }
   }
  },
  {
   "cell_type": "code",
   "execution_count": 94,
   "outputs": [],
   "source": [
    "DEFINE_KAFKA_SOURCE_TEMPLATE = f'''\n",
    "kas_{PJ_NAME} = KafkaSource(\n",
    "    name=\"kas_{PJ_NAME}\",\n",
    "    kafka_bootstrap_servers=\"kafka1:19091,kafka2:19092,kafka3:19093\",\n",
    "    topic=\"topic-{PJ_NAME.replace(\"_\", \"-\", 1)}\",\n",
    "    timestamp_field=\"{{{{ timestamp_col }}}}\",\n",
    "    batch_source=fs_{PJ_NAME},\n",
    "    message_format=JsonFormat(\n",
    "        schema_json=\"{{{{ schema_json }}}}\",\n",
    "    ),\n",
    "    watermark_delay_threshold=timedelta(minutes=5),\n",
    ")\n",
    "\n",
    "'''"
   ],
   "metadata": {
    "collapsed": false,
    "ExecuteTime": {
     "end_time": "2023-06-07T05:39:23.126478Z",
     "start_time": "2023-06-07T05:39:23.121888Z"
    }
   }
  },
  {
   "cell_type": "code",
   "execution_count": 95,
   "outputs": [
    {
     "name": "stdout",
     "output_type": "stream",
     "text": [
      "\n",
      "kas_project_{{ project_id }} = KafkaSource(\n",
      "    name=\"kas_project_{{ project_id }}\",\n",
      "    kafka_bootstrap_servers=\"kafka1:19091,kafka2:19092,kafka3:19093\",\n",
      "    topic=\"topic-project-{{ project_id }}\",\n",
      "    timestamp_field=\"{{ timestamp_col }}\",\n",
      "    batch_source=fs_project_{{ project_id }},\n",
      "    message_format=JsonFormat(\n",
      "        schema_json=\"{{ schema_json }}\",\n",
      "    ),\n",
      "    watermark_delay_threshold=timedelta(minutes=5),\n",
      ")\n",
      "\n",
      "\n"
     ]
    }
   ],
   "source": [
    "print(DEFINE_KAFKA_SOURCE_TEMPLATE)"
   ],
   "metadata": {
    "collapsed": false,
    "ExecuteTime": {
     "end_time": "2023-06-07T05:39:23.933037Z",
     "start_time": "2023-06-07T05:39:23.928852Z"
    }
   }
  },
  {
   "cell_type": "code",
   "execution_count": 96,
   "outputs": [],
   "source": [
    "dataset_features = {\n",
    "    'test1': 'string',\n",
    "    'test2': 'string'\n",
    "}"
   ],
   "metadata": {
    "collapsed": false,
    "ExecuteTime": {
     "end_time": "2023-06-07T05:39:27.245630Z",
     "start_time": "2023-06-07T05:39:27.239511Z"
    }
   }
  },
  {
   "cell_type": "code",
   "execution_count": 97,
   "outputs": [],
   "source": [
    "schema_json = list()\n",
    "for k, v in dataset_features.items():\n",
    "    schema_json.append(f'{k}')"
   ],
   "metadata": {
    "collapsed": false,
    "ExecuteTime": {
     "end_time": "2023-06-07T05:39:27.526578Z",
     "start_time": "2023-06-07T05:39:27.519403Z"
    }
   }
  },
  {
   "cell_type": "code",
   "execution_count": 98,
   "outputs": [],
   "source": [
    "template = Template(DEFINE_KAFKA_SOURCE_TEMPLATE)"
   ],
   "metadata": {
    "collapsed": false,
    "ExecuteTime": {
     "end_time": "2023-06-07T05:39:27.773589Z",
     "start_time": "2023-06-07T05:39:27.766983Z"
    }
   }
  },
  {
   "cell_type": "code",
   "execution_count": 98,
   "outputs": [],
   "source": [],
   "metadata": {
    "collapsed": false,
    "ExecuteTime": {
     "end_time": "2023-06-07T05:39:28.064119Z",
     "start_time": "2023-06-07T05:39:28.059035Z"
    }
   }
  },
  {
   "cell_type": "code",
   "execution_count": 99,
   "outputs": [
    {
     "name": "stdout",
     "output_type": "stream",
     "text": [
      "\n",
      "kas_project_2 = KafkaSource(\n",
      "    name=\"kas_project_2\",\n",
      "    kafka_bootstrap_servers=\"kafka1:19091,kafka2:19092,kafka3:19093\",\n",
      "    topic=\"topic-project-2\",\n",
      "    timestamp_field=\"\",\n",
      "    batch_source=fs_project_2,\n",
      "    message_format=JsonFormat(\n",
      "        schema_json=\"test1, test2\",\n",
      "    ),\n",
      "    watermark_delay_threshold=timedelta(minutes=5),\n",
      ")\n",
      "\n"
     ]
    }
   ],
   "source": [
    "print(template.render(project_id=project_id, schema_json=', '.join(schema_json)))"
   ],
   "metadata": {
    "collapsed": false,
    "ExecuteTime": {
     "end_time": "2023-06-07T05:39:28.703615Z",
     "start_time": "2023-06-07T05:39:28.699773Z"
    }
   }
  },
  {
   "cell_type": "code",
   "execution_count": 1,
   "outputs": [],
   "source": [],
   "metadata": {
    "collapsed": false,
    "ExecuteTime": {
     "end_time": "2023-06-09T01:05:58.581086Z",
     "start_time": "2023-06-09T01:05:58.576697Z"
    }
   }
  }
 ],
 "metadata": {
  "kernelspec": {
   "display_name": "Python 3",
   "language": "python",
   "name": "python3"
  },
  "language_info": {
   "codemirror_mode": {
    "name": "ipython",
    "version": 2
   },
   "file_extension": ".py",
   "mimetype": "text/x-python",
   "name": "python",
   "nbconvert_exporter": "python",
   "pygments_lexer": "ipython2",
   "version": "2.7.6"
  }
 },
 "nbformat": 4,
 "nbformat_minor": 0
}
